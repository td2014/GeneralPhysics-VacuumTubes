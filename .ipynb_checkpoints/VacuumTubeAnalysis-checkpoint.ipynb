{
 "cells": [
  {
   "cell_type": "markdown",
   "metadata": {},
   "source": [
    "# Analysis of a Vacuum Tube Amplifier"
   ]
  },
  {
   "cell_type": "markdown",
   "metadata": {},
   "source": [
    "### This notebook will walk through an analysis of a vacuum tube amplifier, discussing each component and developing a model for the performance."
   ]
  },
  {
   "cell_type": "markdown",
   "metadata": {},
   "source": [
    "### Outline\n",
    "(1) Thermionic Emission of Electrons    \n",
    "(1a) Model for predicting current in simple vacuum setup  \n",
    "(2) Introduction of grid/gate for modulation of current  \n",
    "(3) Amplification circuit  \n",
    "(4) Performance characteristics "
   ]
  },
  {
   "cell_type": "markdown",
   "metadata": {},
   "source": [
    "## Thermionic Emission Of Electrons\n",
    "\n",
    "The first component of the vacuum to discuss is \"Thermionic Emission.\"  This is the process of creating free electrons from a material by heating it.  Typically, some type of metal is heated which causes electrons to be ejected from the material.  These ejected electrons can then be transported through application of electric or magnetic fields.  We might ask sevaral questions at this point.  (1)  What is the relationship of electron ejection to the temperature of the metal?  (2)  What are the limits to the performance of a system which transports these electrons into a circuit.  We will answer these questions as we continue the discussion.  As a point of terminology, the metal which is being heated and emitting the electrons is typically referred to as a \"cathode.\""
   ]
  },
  {
   "attachments": {},
   "cell_type": "raw",
   "metadata": {},
   "source": [
    "<img src=\"simple_tube.svg\" width=500 height=500 alt=\"SVG image\">\n",
    "<img src=\"simple_tube.jpg\" width=500 height=500 alt=\"JPG image\">"
   ]
  },
  {
   "cell_type": "markdown",
   "metadata": {},
   "source": [
    "## Introduction of Grid/Gate for Modulation of Current"
   ]
  },
  {
   "cell_type": "markdown",
   "metadata": {},
   "source": [
    "## Amplification Circuit"
   ]
  },
  {
   "cell_type": "markdown",
   "metadata": {},
   "source": [
    "## Performance Characteristics"
   ]
  }
 ],
 "metadata": {
  "kernelspec": {
   "display_name": "Python 3",
   "language": "python",
   "name": "python3"
  },
  "language_info": {
   "codemirror_mode": {
    "name": "ipython",
    "version": 3
   },
   "file_extension": ".py",
   "mimetype": "text/x-python",
   "name": "python",
   "nbconvert_exporter": "python",
   "pygments_lexer": "ipython3",
   "version": "3.6.4"
  }
 },
 "nbformat": 4,
 "nbformat_minor": 2
}
