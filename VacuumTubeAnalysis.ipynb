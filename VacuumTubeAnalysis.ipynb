{
 "cells": [
  {
   "cell_type": "markdown",
   "metadata": {},
   "source": [
    "# Analysis of a Vacuum Tube Amplifier"
   ]
  },
  {
   "cell_type": "markdown",
   "metadata": {},
   "source": [
    "### This notebook will walk through an analysis of a vacuum tube amplifier, discussing each component and developing a model for the performance."
   ]
  },
  {
   "cell_type": "markdown",
   "metadata": {},
   "source": [
    "### Outline\n",
    "(1) Thermionic Emission of Electrons    \n",
    "(1a) Model for predicting current in simple vacuum setup  \n",
    "(2) Introduction of grid/gate for modulation of current  \n",
    "(3) Amplification circuit  \n",
    "(4) Performance characteristics "
   ]
  },
  {
   "cell_type": "markdown",
   "metadata": {},
   "source": [
    "## 1. Thermionic Emission Of Electrons\n",
    "\n",
    "The first concept to discuss is \"Thermionic Emission.\"  This is the process of creating free electrons from a material by heating it.  Typically, some type of metal is heated which causes electrons to be ejected from the material.  These ejected electrons can then be transported through application of electric or magnetic fields.  We might ask several questions at this point.  (1)  What is the relationship of electron ejection to the temperature of the metal?  (2)  What are the limits to the performance of a system which transports these electrons into a circuit.  We will answer these questions as we continue the discussion.  As a point of terminology, the metal which is being heated and emitting the electrons is typically referred to as a \"cathode.\"  The figure below shows a schematic of a basic vacuum tube.  We assume that the space between the cathode and \"anode\" is under vacuum, so that no air or other matter can interfere with the motion of the electrons.  The figure also indicates the heater, as well as a current meter (labeled \"A\") and an applied voltage (labeled \"V\").  The applied voltage can be adjusted."
   ]
  },
  {
   "attachments": {},
   "cell_type": "markdown",
   "metadata": {},
   "source": [
    "![simple_tube.jpg](simple_tube.jpg)"
   ]
  },
  {
   "cell_type": "markdown",
   "metadata": {},
   "source": [
    "### 1a. Model for predicting current in simple vacuum setup\n",
    "We now turn to determining a model for predicting the measured current in the above basic setup.  Namely, we wish to determine current as a function of the applied voltage (\"V\") and the temperature of the heating element.  We make the following assumptions:  (1)  The circuit elements are ideal, (2) heat takes the form of radiative transfer from the heater element to the cathode and we assume black body radiation model for the spectral distribution of photon energy."
   ]
  },
  {
   "cell_type": "markdown",
   "metadata": {},
   "source": [
    "![cathode_detail.jpg](cathode_detail.jpg)"
   ]
  },
  {
   "cell_type": "markdown",
   "metadata": {},
   "source": [
    "## 2. Introduction of Grid/Gate for Modulation of Current"
   ]
  },
  {
   "cell_type": "markdown",
   "metadata": {},
   "source": [
    "## 3. Amplification Circuit"
   ]
  },
  {
   "cell_type": "markdown",
   "metadata": {},
   "source": [
    "## 4. Performance Characteristics"
   ]
  }
 ],
 "metadata": {
  "kernelspec": {
   "display_name": "Python 3",
   "language": "python",
   "name": "python3"
  },
  "language_info": {
   "codemirror_mode": {
    "name": "ipython",
    "version": 3
   },
   "file_extension": ".py",
   "mimetype": "text/x-python",
   "name": "python",
   "nbconvert_exporter": "python",
   "pygments_lexer": "ipython3",
   "version": "3.6.4"
  }
 },
 "nbformat": 4,
 "nbformat_minor": 2
}
