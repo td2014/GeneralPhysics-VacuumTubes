{
 "cells": [
  {
   "cell_type": "markdown",
   "metadata": {},
   "source": [
    "# Analysis of a Vacuum Tube Amplifier"
   ]
  },
  {
   "cell_type": "markdown",
   "metadata": {},
   "source": [
    "### This notebook will walk through an analysis of a vacuum tube amplifier, discussing each component and developing a model for the performance."
   ]
  },
  {
   "cell_type": "markdown",
   "metadata": {},
   "source": [
    "### Outline\n",
    "(1) Thermionic Emission of Electrons    \n",
    "(1a) Model for predicting current in simple vacuum setup  \n",
    "(2) Introduction of grid/gate for modulation of current  \n",
    "(3) Amplification circuit  \n",
    "(4) Performance characteristics "
   ]
  },
  {
   "cell_type": "markdown",
   "metadata": {},
   "source": [
    "## 1. Thermionic Emission Of Electrons\n",
    "\n",
    "The first concept to discuss is \"Thermionic Emission.\"  This is the process of creating free electrons from a material by heating it.  Typically, some type of metal is heated which causes electrons to be ejected from the material.  These ejected electrons can then be transported through application of electric or magnetic fields.  We might ask several questions at this point.  (1)  What is the relationship of electron ejection to the temperature of the metal?  (2)  What are the limits to the performance of a system which transports these electrons into a circuit.  We will answer these questions as we continue the discussion.  As a point of terminology, the metal which is being heated and emitting the electrons is typically referred to as a \"cathode.\"  The figure below shows a schematic of a basic vacuum tube.  We assume that the space between the cathode and \"anode\" is under vacuum, so that no air or other matter can interfere with the motion of the electrons.  The figure also indicates the heater, as well as a current meter (labeled \"A\") and an applied voltage (labeled \"V\").  The applied voltage can be adjusted."
   ]
  },
  {
   "cell_type": "markdown",
   "metadata": {},
   "source": [
    "![simple_tube.jpg](simple_tube.jpg)"
   ]
  },
  {
   "cell_type": "markdown",
   "metadata": {},
   "source": [
    "### 1a. Model for predicting current in simple vacuum setup\n",
    "We now turn to determining a model for predicting the measured current in the above basic setup.  Namely, we wish to determine current as a function of the applied voltage (\"V\") and the temperature of the heating element.  We make the following assumptions:  (1)  The circuit elements are ideal, (2) heat takes the form of radiative transfer from the heater element to the cathode and we assume black body radiation model for the spectral distribution of photon energy."
   ]
  },
  {
   "cell_type": "markdown",
   "metadata": {},
   "source": [
    "![cathode_detail.jpg](cathode_detail.jpg)"
   ]
  },
  {
   "cell_type": "markdown",
   "metadata": {},
   "source": [
    "The basic approach we will use to determine the electron beam current is as follows.  Given the black body radiation from the heater element (not shown above), we will be delivering a certain amount of energy via the photons.  For a given horizontal slice of the cathode of thickness \"dx\", the energy required to eject the electrons will dependendent on the potential energy of the cathode material modified by the potential energy due to the external applied voltage.  At the base of the cathode, we define the potential due to the applied voltage to be zero, so no modification to the potential of the cathode material.  At the top of the cathode, the potential will be modified by an amount proportional to the height of the cathode (since the potential increases from zero at the base to \"V\" at the anode).\n",
    "\n",
    "Therefore, at the base layer, the electrons will be less likely to be ejected as compared to the layer at the top of the cathode."
   ]
  },
  {
   "cell_type": "markdown",
   "metadata": {},
   "source": [
    "Before we proceed further, it is useful to consider a dimensional analysis of the terms in the current function.  From Ohms law, we can express the current as $i = V j$, where $i$ is the current, $V$ the applied voltage, and $j$ the conductance.  The units of current are amperes (coulombs/sec), the unit for volts can be obtained from the expression of Newton's second law:  $F=ma$.  $F$ in the case of electrostatics is $F=qE$, the units of $E$ is Volts/m, the units of F is $\\frac{kg \\times m}{s^{2}}$  Therefore, Volts must have the dimensions $\\frac{kg \\times m^{2}}{C \\times s^{2}}$ and then the units of conductance must be:  $\\frac{C^{2}\\times s}{kg \\times m^{2}}$"
   ]
  },
  {
   "cell_type": "markdown",
   "metadata": {},
   "source": [
    "Now let us consider the electron beam current between the cathode and anode.  We are looking for an expression which relates this beam current to the applied voltage.  If we consider a kinetic model, we can determine the beam length per unit time that would be detected as current.  Then taking the space integral of the charge density, we can compute the charge being measured."
   ]
  },
  {
   "cell_type": "markdown",
   "metadata": {},
   "source": [
    "To this end, we must determine the length of beam that would be measured as current as a function of the applied voltage.  We know that \n",
    "\n",
    "$m \\frac{d^{2}x}{dt^{2}}=qE=\\frac{eV}{d}$ where $V$ is the applied voltage, and $d$ is the distance between the cathode and anode.\n",
    "\n",
    "From this we obtain $x(t) = \\frac{eV}{2md}t^{2}$  \n",
    "\n",
    "Determining the $t$ for which $x=d$ we obtain $\\frac{2md^{2}}{eV}=t^{2}$ which leads to $t=d \\sqrt{\\frac{2m}{eV}} $"
   ]
  },
  {
   "cell_type": "markdown",
   "metadata": {},
   "source": [
    "Now, to determine the distance from the anode that an electron could reach the anode within a time $\\Delta t$ is obtained as \n",
    "\n",
    "$\\Delta x = \\frac{eV}{2md} \\left( d\\sqrt{\\frac{2m}{eV}}-\\Delta t \\right) ^{2}$"
   ]
  },
  {
   "cell_type": "markdown",
   "metadata": {},
   "source": [
    "Next to obtain the total charge that is measure during a time $\\Delta t$, we perform the following integral:\n",
    "\n",
    "$Q= \\int_{d-\\Delta x}^{d} \\rho(x) dx$"
   ]
  },
  {
   "cell_type": "markdown",
   "metadata": {},
   "source": [
    "We need to obtain an expression for $\\rho(x)$, the linear beam density.  For this purpose, we assume that the amount of charge per unit time being generated by the thermionic emission is constant, which we'll call $r$."
   ]
  },
  {
   "cell_type": "markdown",
   "metadata": {},
   "source": [
    "## 2. Introduction of Grid/Gate for Modulation of Current"
   ]
  },
  {
   "cell_type": "markdown",
   "metadata": {},
   "source": [
    "## 3. Amplification Circuit"
   ]
  },
  {
   "cell_type": "markdown",
   "metadata": {},
   "source": [
    "## 4. Performance Characteristics"
   ]
  }
 ],
 "metadata": {
  "kernelspec": {
   "display_name": "Python 3",
   "language": "python",
   "name": "python3"
  },
  "language_info": {
   "codemirror_mode": {
    "name": "ipython",
    "version": 3
   },
   "file_extension": ".py",
   "mimetype": "text/x-python",
   "name": "python",
   "nbconvert_exporter": "python",
   "pygments_lexer": "ipython3",
   "version": "3.6.4"
  }
 },
 "nbformat": 4,
 "nbformat_minor": 2
}
